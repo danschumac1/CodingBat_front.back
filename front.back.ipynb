{
 "cells": [
  {
   "cell_type": "markdown",
   "id": "6de08a44",
   "metadata": {},
   "source": [
    "# Warmup-1 > front_back"
   ]
  },
  {
   "cell_type": "markdown",
   "id": "8d8943eb",
   "metadata": {},
   "source": [
    "Given a string, return a new string where the first and last chars have been exchanged.\n",
    "\n",
    "\n",
    "front_back('code') → 'eodc'\n",
    "front_back('a') → 'a'\n",
    "front_back('ab') → 'ba'"
   ]
  },
  {
   "cell_type": "code",
   "execution_count": 3,
   "id": "a596f7d6",
   "metadata": {},
   "outputs": [],
   "source": [
    "def front_back(str):\n",
    "    if len(str)==0:\n",
    "        return str\n",
    "    elif len(str) ==1:\n",
    "        return str\n",
    "    elif len(str) == 2:\n",
    "        return str[-1]+str[0]\n",
    "    else:\n",
    "        return str[-1] + str[1:-1] + str[0]"
   ]
  }
 ],
 "metadata": {
  "kernelspec": {
   "display_name": "Python 3 (ipykernel)",
   "language": "python",
   "name": "python3"
  },
  "language_info": {
   "codemirror_mode": {
    "name": "ipython",
    "version": 3
   },
   "file_extension": ".py",
   "mimetype": "text/x-python",
   "name": "python",
   "nbconvert_exporter": "python",
   "pygments_lexer": "ipython3",
   "version": "3.9.12"
  }
 },
 "nbformat": 4,
 "nbformat_minor": 5
}
